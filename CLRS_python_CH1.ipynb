{
 "cells": [
  {
   "cell_type": "markdown",
   "metadata": {},
   "source": [
    "<font size=\"3\">\n",
    "1.1-1\n",
    "Give a real-world example that requires sorting or a real-world example that requires\n",
    "computing a convex hull.\n",
    "<br>\n",
    "\n",
    "answer: \n",
    "1. youtube sort views by counts\n",
    "2. convex hull: nuclear power plant leak, government need to evacuate people, \n",
    "    from the nuclear center, it formed a convex around the nuclear center based on the radiative.\n",
    "</font>"
   ]
  },
  {
   "cell_type": "markdown",
   "metadata": {},
   "source": [
    "<font size=\"3\">\n",
    "1.1-2\n",
    "Other than speed, what other measures of efficiency might one use in a real-world\n",
    "setting?\n",
    "<br>\n",
    "\n",
    "answer:<br>\n",
    "1. memory <br>\n",
    "2. hard drive <br>\n",
    "3. power consumption\n",
    "    \n",
    "</font>"
   ]
  },
  {
   "cell_type": "markdown",
   "metadata": {},
   "source": [
    "<font size=\"3\">\n",
    "1.1-3\n",
    "Select a data structure that you have seen previously, and discuss its strengths and limitations.\n",
    "\n",
    "<br/>\n",
    "answer: singly linked list<br>\n",
    "1.strengths:<br>\n",
    "*Constant time insertion and removal at the head, tail, and following a referenced node <br>\n",
    "2. limitations:<br>\n",
    "*Random access has linear time versus constant for arrays. <br> \n",
    "*Memory overhead is higher than arrays due to the next pointer. <br>\n",
    "</font>"
   ]
  },
  {
   "cell_type": "markdown",
   "metadata": {},
   "source": [
    "<font size=\"3\">\n",
    "1.1-4\n",
    "How are the shortest-path and traveling-salesman problems given above similar?\n",
    "How are they different?\n",
    "<br>\n",
    "<br/>\n",
    "answer:<br>\n",
    "1. similar: both are go along in a graph and find a path in it <br>\n",
    "2. different: shortest-path is looking for a segment between two points(start and end),<br>\n",
    "   while traveling-salesman is a closed loop with NP-complete problem <br>\n",
    "\n",
    "reference:<br>\n",
    "https://stackoverflow.com/questions/7763432/what-is-the-difference-between-travelling-salesman-and-finding-shortest-path\n",
    "    \n",
    "</font>"
   ]
  },
  {
   "cell_type": "markdown",
   "metadata": {},
   "source": [
    "<font size=\"3\">\n",
    "1.1-5\n",
    "Come up with a real-world problem in which only the best solution will do. Then\n",
    "come up with one in which a solution that is “approximately” the best is good\n",
    "enough.\n",
    "\n",
    "<br/>\n",
    "answer:<br>\n",
    "Only best will do: only the right flu vaccine will work for flue<br>   \n",
    "approx will do: many medicine will work for therapy purpose\n",
    "</font>"
   ]
  },
  {
   "cell_type": "markdown",
   "metadata": {},
   "source": [
    "<font size=\"3\">\n",
    "1.2-1 \n",
    "Give an example of an application that requires algorithmic content at the application\n",
    "level, and discuss the function of the algorithms involved.\n",
    "    \n",
    "answer: to sort product price from highest to lowest in amazon website\n",
    "</font>"
   ]
  },
  {
   "cell_type": "markdown",
   "metadata": {},
   "source": [
    "<font size=\"3\">\n",
    "1.2-2\n",
    "Suppose we are comparing implementations of insertion sort and merge sort on the  \n",
    "same machine. For inputs of size n, insertion sort runs in 8$n^2$ steps, while merge  \n",
    "sort runs in 64nlg(n) steps. For which values of n does insertion sort beat merge sort? \n",
    "</font>"
   ]
  },
  {
   "cell_type": "code",
   "execution_count": 12,
   "metadata": {},
   "outputs": [
    {
     "name": "stdout",
     "output_type": "stream",
     "text": [
      "insertion sort beat merge sort when n ≤ 44\n"
     ]
    }
   ],
   "source": [
    "#1.2-2 code example\n",
    "import numpy as np\n",
    "n = 2\n",
    "while n**2<(8*n*np.log2(n)):\n",
    "    n += 1\n",
    "print('insertion sort beat merge sort when n \\u2264 {}'.format(n))\n"
   ]
  },
  {
   "cell_type": "markdown",
   "metadata": {},
   "source": [
    "<font size=\"3\">\n",
    "1.2-3\n",
    "What is the smallest value of n such that an algorithm whose running time is 100$n^2$\n",
    "runs faster than an algorithm whose running time is $2^n$ on the same machine?\n",
    "</font>"
   ]
  },
  {
   "cell_type": "code",
   "execution_count": 18,
   "metadata": {},
   "outputs": [
    {
     "name": "stdout",
     "output_type": "stream",
     "text": [
      "smallest value of n = 15\n"
     ]
    }
   ],
   "source": [
    "#1.2-3 code example\n",
    "n = 1\n",
    "while 100*n**2>2**n:\n",
    "    n += 1\n",
    "print('smallest value of n = {}'.format(n))   "
   ]
  },
  {
   "cell_type": "code",
   "execution_count": 17,
   "metadata": {},
   "outputs": [
    {
     "data": {
      "image/png": "[encoded data removed]",
      "text/plain": [
       "<Figure size 1080x576 with 1 Axes>"
      ]
     },
     "metadata": {
      "needs_background": "light"
     },
     "output_type": "display_data"
    }
   ],
   "source": [
    "#1-1 plot the following when n is suffient large\n",
    "\n",
    "import matplotlib.pyplot as plt\n",
    "%matplotlib inline\n",
    "\n",
    "n = [i for i in range(1,1000)]\n",
    "fig = plt.figure(figsize=(15,8))\n",
    "ax = plt.plot(n,np.log2(n),'k',n,np.sqrt(n),'r',n,n,'b',n,n*np.log2(n),'g')"
   ]
  }
 ],
 "metadata": {
  "kernelspec": {
   "display_name": "Python 3",
   "language": "python",
   "name": "python3"
  },
  "language_info": {
   "codemirror_mode": {
    "name": "ipython",
    "version": 3
   },
   "file_extension": ".py",
   "mimetype": "text/x-python",
   "name": "python",
   "nbconvert_exporter": "python",
   "pygments_lexer": "ipython3",
   "version": "3.5.4"
  }
 },
 "nbformat": 4,
 "nbformat_minor": 2
}
